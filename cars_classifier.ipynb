{
  "nbformat": 4,
  "nbformat_minor": 0,
  "metadata": {
    "colab": {
      "name": "cars_classifier.ipynb",
      "version": "0.3.2",
      "provenance": [],
      "include_colab_link": true
    },
    "kernelspec": {
      "name": "python3",
      "display_name": "Python 3"
    },
    "accelerator": "GPU"
  },
  "cells": [
    {
      "cell_type": "markdown",
      "metadata": {
        "id": "view-in-github",
        "colab_type": "text"
      },
      "source": [
        "<a href=\"https://colab.research.google.com/github/abbassi95/hello-world0/blob/master/cars_classifier.ipynb\" target=\"_parent\"><img src=\"https://colab.research.google.com/assets/colab-badge.svg\" alt=\"Open In Colab\"/></a>"
      ]
    },
    {
      "metadata": {
        "id": "j3FxfxIVehh3",
        "colab_type": "code",
        "colab": {}
      },
      "cell_type": "code",
      "source": [
        "#to download datasets from google image\n",
        "#javascript:document.body.innerHTML = `<a href=\"data:text/csv;charset=utf-8,${escape(Array.from(document.querySelectorAll('.rg_di .rg_meta')).map(el=>JSON.parse(el.textContent).ou).join('\\n'))}\" download=\"links.txt\">download urls</a>`;"
      ],
      "execution_count": 0,
      "outputs": []
    },
    {
      "metadata": {
        "id": "fBf-I7_Oezoy",
        "colab_type": "code",
        "colab": {}
      },
      "cell_type": "code",
      "source": [
        "from fastai import *\n",
        "from fastai.vision import *"
      ],
      "execution_count": 0,
      "outputs": []
    },
    {
      "metadata": {
        "id": "GPE_lWzmfDfl",
        "colab_type": "code",
        "colab": {
          "base_uri": "https://localhost:8080/",
          "height": 74
        },
        "outputId": "b80d8016-afae-4528-8e0c-bec232db9dcb"
      },
      "cell_type": "code",
      "source": [
        "folder = 'lamborghini'\n",
        "file = 'lamborghini.txt'\n",
        "\n",
        "path = Path('data/lamborghini')\n",
        "dest = path/folder\n",
        "dest.mkdir(parents=True, exist_ok=True)\n",
        "download_images(path/file, dest, max_pics=200)"
      ],
      "execution_count": 9,
      "outputs": [
        {
          "output_type": "display_data",
          "data": {
            "text/html": [
              "\n",
              "    <div>\n",
              "        <style>\n",
              "            /* Turns off some styling */\n",
              "            progress {\n",
              "                /* gets rid of default border in Firefox and Opera. */\n",
              "                border: none;\n",
              "                /* Needs to be in here for Safari polyfill so background images work as expected. */\n",
              "                background-size: auto;\n",
              "            }\n",
              "            .progress-bar-interrupted, .progress-bar-interrupted::-webkit-progress-bar {\n",
              "                background: #F44336;\n",
              "            }\n",
              "        </style>\n",
              "      <progress value='200' class='' max='200', style='width:300px; height:20px; vertical-align: middle;'></progress>\n",
              "      100.00% [200/200 00:11<00:00]\n",
              "    </div>\n",
              "    "
            ],
            "text/plain": [
              "<IPython.core.display.HTML object>"
            ]
          },
          "metadata": {
            "tags": []
          }
        },
        {
          "output_type": "stream",
          "text": [
            "Error https://flatout-sportwagenvermietung.de/wp-content/uploads/2017/08/Dino2.jpg HTTPSConnectionPool(host='flatout-sportwagenvermietung.de', port=443): Max retries exceeded with url: /wp-content/uploads/2017/08/Dino2.jpg (Caused by ConnectTimeoutError(<urllib3.connection.VerifiedHTTPSConnection object at 0x7f259448da58>, 'Connection to flatout-sportwagenvermietung.de timed out. (connect timeout=4)'))\n"
          ],
          "name": "stdout"
        }
      ]
    },
    {
      "metadata": {
        "id": "8dmcM3i8gBd-",
        "colab_type": "code",
        "colab": {
          "base_uri": "https://localhost:8080/",
          "height": 91
        },
        "outputId": "c2ea0d0e-2539-49ab-a393-9cbe87b94756"
      },
      "cell_type": "code",
      "source": [
        "folder = 'ferrari'\n",
        "file = 'ferrari.txt'\n",
        "\n",
        "path = Path('data/ferrari')\n",
        "dest = path/folder\n",
        "dest.mkdir(parents=True, exist_ok=True)\n",
        "download_images(path/file, dest, max_pics=200)"
      ],
      "execution_count": 10,
      "outputs": [
        {
          "output_type": "display_data",
          "data": {
            "text/html": [
              "\n",
              "    <div>\n",
              "        <style>\n",
              "            /* Turns off some styling */\n",
              "            progress {\n",
              "                /* gets rid of default border in Firefox and Opera. */\n",
              "                border: none;\n",
              "                /* Needs to be in here for Safari polyfill so background images work as expected. */\n",
              "                background-size: auto;\n",
              "            }\n",
              "            .progress-bar-interrupted, .progress-bar-interrupted::-webkit-progress-bar {\n",
              "                background: #F44336;\n",
              "            }\n",
              "        </style>\n",
              "      <progress value='200' class='' max='200', style='width:300px; height:20px; vertical-align: middle;'></progress>\n",
              "      100.00% [200/200 00:13<00:00]\n",
              "    </div>\n",
              "    "
            ],
            "text/plain": [
              "<IPython.core.display.HTML object>"
            ]
          },
          "metadata": {
            "tags": []
          }
        },
        {
          "output_type": "stream",
          "text": [
            "Error https://ferrari.appswiss.net/wp-content/uploads/2017/04/PNGPIX-COM-Red-Ferrari-488-GTB-Car-PNG-Image.png HTTPSConnectionPool(host='ferrari.appswiss.net', port=443): Max retries exceeded with url: /wp-content/uploads/2017/04/PNGPIX-COM-Red-Ferrari-488-GTB-Car-PNG-Image.png (Caused by SSLError(CertificateError(\"hostname 'ferrari.appswiss.net' doesn't match either of '*.kreativmedia.ch', 'kreativmedia.ch'\",),))\n",
            "Error https://webfiles.luxauto.lu/pictures/occasions/b/895711_1--4.jpg HTTPSConnectionPool(host='webfiles.luxauto.lu', port=443): Max retries exceeded with url: /pictures/occasions/b/895711_1--4.jpg (Caused by SSLError(SSLError(1, '[SSL: CERTIFICATE_VERIFY_FAILED] certificate verify failed (_ssl.c:847)'),))\n"
          ],
          "name": "stdout"
        }
      ]
    },
    {
      "metadata": {
        "id": "gak6aiaHgCde",
        "colab_type": "code",
        "colab": {
          "base_uri": "https://localhost:8080/",
          "height": 37
        },
        "outputId": "373e53a7-98fe-406f-f0cc-8fc2c0fe2e9e"
      },
      "cell_type": "code",
      "source": [
        "folder = 'bugatti'\n",
        "file = 'bugatti.txt'\n",
        "\n",
        "path = Path('data/bugatti')\n",
        "dest = path/folder\n",
        "dest.mkdir(parents=True, exist_ok=True)\n",
        "download_images(path/file, dest, max_pics=200)"
      ],
      "execution_count": 11,
      "outputs": [
        {
          "output_type": "display_data",
          "data": {
            "text/html": [
              "\n",
              "    <div>\n",
              "        <style>\n",
              "            /* Turns off some styling */\n",
              "            progress {\n",
              "                /* gets rid of default border in Firefox and Opera. */\n",
              "                border: none;\n",
              "                /* Needs to be in here for Safari polyfill so background images work as expected. */\n",
              "                background-size: auto;\n",
              "            }\n",
              "            .progress-bar-interrupted, .progress-bar-interrupted::-webkit-progress-bar {\n",
              "                background: #F44336;\n",
              "            }\n",
              "        </style>\n",
              "      <progress value='200' class='' max='200', style='width:300px; height:20px; vertical-align: middle;'></progress>\n",
              "      100.00% [200/200 00:12<00:00]\n",
              "    </div>\n",
              "    "
            ],
            "text/plain": [
              "<IPython.core.display.HTML object>"
            ]
          },
          "metadata": {
            "tags": []
          }
        }
      ]
    },
    {
      "metadata": {
        "id": "stJ4A_XGgTL-",
        "colab_type": "code",
        "colab": {}
      },
      "cell_type": "code",
      "source": [
        "classes = ['lamborghini', 'ferrari','bugatti']"
      ],
      "execution_count": 0,
      "outputs": []
    }
  ]
}